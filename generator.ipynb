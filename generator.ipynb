{
 "metadata": {
  "language_info": {
   "codemirror_mode": {
    "name": "ipython",
    "version": 3
   },
   "file_extension": ".py",
   "mimetype": "text/x-python",
   "name": "python",
   "nbconvert_exporter": "python",
   "pygments_lexer": "ipython3",
   "version": "3.8.1-final"
  },
  "orig_nbformat": 2,
  "kernelspec": {
   "name": "python38164bitce4e78da14864de9bc3a82f07519f76c",
   "display_name": "Python 3.8.1 64-bit"
  }
 },
 "nbformat": 4,
 "nbformat_minor": 2,
 "cells": [
  {
   "cell_type": "code",
   "execution_count": 2,
   "metadata": {
    "tags": []
   },
   "outputs": [
    {
     "output_type": "stream",
     "name": "stdout",
     "text": "1\n3\n6\n10\n"
    }
   ],
   "source": [
    "def generator_ex(ls):\n",
    "    s = 0\n",
    "    for i in ls:\n",
    "        s += i\n",
    "        yield s\n",
    "    \n",
    "G = generator_ex([1,2,3,4])\n",
    "\n",
    "for item in G:\n",
    "    print(item)"
   ]
  },
  {
   "cell_type": "code",
   "execution_count": 3,
   "metadata": {},
   "outputs": [],
   "source": [
    "for item in G:\n",
    "    print(item)"
   ]
  },
  {
   "cell_type": "code",
   "execution_count": 5,
   "metadata": {
    "tags": []
   },
   "outputs": [
    {
     "output_type": "stream",
     "name": "stdout",
     "text": "1\n"
    }
   ],
   "source": [
    "G = generator_ex([1,2,3,4])\n",
    "print(next(G))"
   ]
  },
  {
   "cell_type": "code",
   "execution_count": 6,
   "metadata": {
    "tags": []
   },
   "outputs": [
    {
     "output_type": "stream",
     "name": "stdout",
     "text": "3\n"
    }
   ],
   "source": [
    "print(next(G))"
   ]
  },
  {
   "cell_type": "code",
   "execution_count": 1,
   "metadata": {
    "tags": []
   },
   "outputs": [
    {
     "output_type": "stream",
     "name": "stdout",
     "text": "['a']\n"
    }
   ],
   "source": [
    "\n",
    "def intersection(*arg):\n",
    "    result = set(arg[0])\n",
    "    for i in range(1,len(arg)):\n",
    "        result = result & set(arg[i]) \n",
    "    return list(result)\n",
    "  \n",
    "print(intersection(['a', 'b'], ['a', 'c'], ['a', 'b']))"
   ]
  },
  {
   "cell_type": "code",
   "execution_count": 3,
   "metadata": {
    "tags": []
   },
   "outputs": [
    {
     "output_type": "stream",
     "name": "stdout",
     "text": "<map object at 0x7fcdee72f970>\n{'a'}\n"
    }
   ],
   "source": [
    "from functools import reduce\n",
    "def reduce_intersection(*args):\n",
    "    res = map(set, args)\n",
    "    print(res)\n",
    "    x = reduce(lambda x, y: x & y, list(res))\n",
    "    print(x)\n",
    "\n",
    "reduce_intersection(['a', 'b'], ['a', 'c'], ['a', 'b'])"
   ]
  },
  {
   "cell_type": "code",
   "execution_count": null,
   "metadata": {},
   "outputs": [],
   "source": []
  }
 ]
}